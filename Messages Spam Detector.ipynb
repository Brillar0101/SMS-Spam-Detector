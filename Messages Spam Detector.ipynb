{
 "cells": [
  {
   "cell_type": "code",
   "execution_count": 182,
   "id": "a1a90ab1-5fd5-4ee8-810a-f70fca9e9417",
   "metadata": {},
   "outputs": [],
   "source": [
    "import numpy as np\n",
    "import pandas as pd\n",
    "import matplotlib.pyplot as plt\n",
    "import seaborn as sns\n",
    "import tensorflow as tf\n",
    "from tensorflow import keras\n",
    "from tensorflow.keras import layers\n"
   ]
  },
  {
   "cell_type": "code",
   "execution_count": 183,
   "id": "55f7d568-45f1-41bf-8273-b33dab071f55",
   "metadata": {},
   "outputs": [
    {
     "data": {
      "text/html": [
       "<div>\n",
       "<style scoped>\n",
       "    .dataframe tbody tr th:only-of-type {\n",
       "        vertical-align: middle;\n",
       "    }\n",
       "\n",
       "    .dataframe tbody tr th {\n",
       "        vertical-align: top;\n",
       "    }\n",
       "\n",
       "    .dataframe thead th {\n",
       "        text-align: right;\n",
       "    }\n",
       "</style>\n",
       "<table border=\"1\" class=\"dataframe\">\n",
       "  <thead>\n",
       "    <tr style=\"text-align: right;\">\n",
       "      <th></th>\n",
       "      <th>Category</th>\n",
       "      <th>Message</th>\n",
       "    </tr>\n",
       "  </thead>\n",
       "  <tbody>\n",
       "    <tr>\n",
       "      <th>0</th>\n",
       "      <td>ham</td>\n",
       "      <td>Go until jurong point, crazy.. Available only ...</td>\n",
       "    </tr>\n",
       "    <tr>\n",
       "      <th>1</th>\n",
       "      <td>ham</td>\n",
       "      <td>Ok lar... Joking wif u oni...</td>\n",
       "    </tr>\n",
       "    <tr>\n",
       "      <th>2</th>\n",
       "      <td>spam</td>\n",
       "      <td>Free entry in 2 a wkly comp to win FA Cup fina...</td>\n",
       "    </tr>\n",
       "    <tr>\n",
       "      <th>3</th>\n",
       "      <td>ham</td>\n",
       "      <td>U dun say so early hor... U c already then say...</td>\n",
       "    </tr>\n",
       "    <tr>\n",
       "      <th>4</th>\n",
       "      <td>ham</td>\n",
       "      <td>Nah I don't think he goes to usf, he lives aro...</td>\n",
       "    </tr>\n",
       "  </tbody>\n",
       "</table>\n",
       "</div>"
      ],
      "text/plain": [
       "  Category                                            Message\n",
       "0      ham  Go until jurong point, crazy.. Available only ...\n",
       "1      ham                      Ok lar... Joking wif u oni...\n",
       "2     spam  Free entry in 2 a wkly comp to win FA Cup fina...\n",
       "3      ham  U dun say so early hor... U c already then say...\n",
       "4      ham  Nah I don't think he goes to usf, he lives aro..."
      ]
     },
     "execution_count": 183,
     "metadata": {},
     "output_type": "execute_result"
    }
   ],
   "source": [
    "# Reads the data\n",
    "df = pd.read_csv(\"C:/Users/Brillar/Documents/Machine Learning/spamdetector/spam.csv\",encoding='latin-1')\n",
    "df.head()"
   ]
  },
  {
   "cell_type": "code",
   "execution_count": 184,
   "id": "3cf60a1a-de4e-4cf6-88a2-eb60a42c06e0",
   "metadata": {},
   "outputs": [
    {
     "data": {
      "text/html": [
       "<div>\n",
       "<style scoped>\n",
       "    .dataframe tbody tr th:only-of-type {\n",
       "        vertical-align: middle;\n",
       "    }\n",
       "\n",
       "    .dataframe tbody tr th {\n",
       "        vertical-align: top;\n",
       "    }\n",
       "\n",
       "    .dataframe thead th {\n",
       "        text-align: right;\n",
       "    }\n",
       "</style>\n",
       "<table border=\"1\" class=\"dataframe\">\n",
       "  <thead>\n",
       "    <tr style=\"text-align: right;\">\n",
       "      <th></th>\n",
       "      <th>label</th>\n",
       "      <th>Text</th>\n",
       "      <th>label_enc</th>\n",
       "    </tr>\n",
       "  </thead>\n",
       "  <tbody>\n",
       "    <tr>\n",
       "      <th>0</th>\n",
       "      <td>ham</td>\n",
       "      <td>Go until jurong point, crazy.. Available only ...</td>\n",
       "      <td>0</td>\n",
       "    </tr>\n",
       "    <tr>\n",
       "      <th>1</th>\n",
       "      <td>ham</td>\n",
       "      <td>Ok lar... Joking wif u oni...</td>\n",
       "      <td>0</td>\n",
       "    </tr>\n",
       "    <tr>\n",
       "      <th>2</th>\n",
       "      <td>spam</td>\n",
       "      <td>Free entry in 2 a wkly comp to win FA Cup fina...</td>\n",
       "      <td>1</td>\n",
       "    </tr>\n",
       "    <tr>\n",
       "      <th>3</th>\n",
       "      <td>ham</td>\n",
       "      <td>U dun say so early hor... U c already then say...</td>\n",
       "      <td>0</td>\n",
       "    </tr>\n",
       "    <tr>\n",
       "      <th>4</th>\n",
       "      <td>ham</td>\n",
       "      <td>Nah I don't think he goes to usf, he lives aro...</td>\n",
       "      <td>0</td>\n",
       "    </tr>\n",
       "  </tbody>\n",
       "</table>\n",
       "</div>"
      ],
      "text/plain": [
       "  label                                               Text  label_enc\n",
       "0   ham  Go until jurong point, crazy.. Available only ...          0\n",
       "1   ham                      Ok lar... Joking wif u oni...          0\n",
       "2  spam  Free entry in 2 a wkly comp to win FA Cup fina...          1\n",
       "3   ham  U dun say so early hor... U c already then say...          0\n",
       "4   ham  Nah I don't think he goes to usf, he lives aro...          0"
      ]
     },
     "execution_count": 184,
     "metadata": {},
     "output_type": "execute_result"
    }
   ],
   "source": [
    "# Drops any unwanted columns (if they exist)\n",
    "df = df.drop(columns=['Unnamed: 2', 'Unnamed: 3', 'Unnamed: 4'], errors='ignore')\n",
    "\n",
    "# Renames the columns apropriately  \n",
    "df = df.rename(columns={'Category': 'label', 'Message': 'Text'})\n",
    "\n",
    "# Encodes the 'label' column as numerical values\n",
    "df['label_enc'] = df['label'].map({'ham': 0, 'spam': 1})\n",
    "\n",
    "# Displays the first few rows to check the result\n",
    "df.head()"
   ]
  },
  {
   "cell_type": "code",
   "execution_count": 185,
   "id": "a76c31ea-8da1-470b-b475-25e2b575c917",
   "metadata": {},
   "outputs": [
    {
     "data": {
      "image/png": "[encoded data removed]",
      "text/plain": [
       "<Figure size 640x480 with 1 Axes>"
      ]
     },
     "metadata": {},
     "output_type": "display_data"
    }
   ],
   "source": [
    "# Plots label counts using a bar chart\n",
    "sns.countplot(x=df['label'])\n",
    "plt.show()"
   ]
  },
  {
   "cell_type": "code",
   "execution_count": 186,
   "id": "591d05e6-ba53-480f-b760-65f0c3e921f3",
   "metadata": {},
   "outputs": [
    {
     "name": "stdout",
     "output_type": "stream",
     "text": [
      "Average number of words per text message: 16\n"
     ]
    }
   ],
   "source": [
    "# Calculates the number of words (tokens) in each text message\n",
    "word_counts = [len(text.split()) for text in df['Text']]\n",
    "\n",
    "# Computes the average number of words per text message\n",
    "average_word_length = round(sum(word_counts) / len(df['Text']))\n",
    "\n",
    "# Prints the average number of words\n",
    "print(\"Average number of words per text message:\", average_word_length)\n"
   ]
  },
  {
   "cell_type": "code",
   "execution_count": 187,
   "id": "c635e5d7-5a0d-4e88-b7f1-c0a2740d471d",
   "metadata": {},
   "outputs": [
    {
     "name": "stdout",
     "output_type": "stream",
     "text": [
      "Total number of unique words in the corpus: 15686\n"
     ]
    }
   ],
   "source": [
    "# Initializes an empty set to store unique words\n",
    "unique_words = set()\n",
    "\n",
    "# Loops over each text message in the dataframe\n",
    "for message in df['Text']:\n",
    "    # Split the message into words and add to the set of unique words\n",
    "    unique_words.update(message.split())\n",
    "\n",
    "# Calculates the total number of unique words in the corpus\n",
    "total_unique_words = len(unique_words)\n",
    "\n",
    "# Prints the total number of unique words\n",
    "print(\"Total number of unique words in the corpus:\", total_unique_words)\n"
   ]
  },
  {
   "cell_type": "code",
   "execution_count": 188,
   "id": "026434aa-bca4-4e6a-a977-a7dc8687c327",
   "metadata": {},
   "outputs": [
    {
     "name": "stdout",
     "output_type": "stream",
     "text": [
      "Training data shapes - X: (4457,) y: (4457,)\n",
      "Testing data shapes - X: (1115,) y: (1115,)\n"
     ]
    }
   ],
   "source": [
    "# Imports necessary library for data splitting\n",
    "from sklearn.model_selection import train_test_split\n",
    "import numpy as np\n",
    "\n",
    "# Converts the 'Text' and 'label_enc' columns to numpy arrays for machine learning processing\n",
    "X = np.asarray(df['Text'])\n",
    "y = np.asarray(df['label_enc'])\n",
    "\n",
    "# Creates a new DataFrame to keep the structure clear and organized\n",
    "data = pd.DataFrame({'Text': X, 'label': y})\n",
    "\n",
    "# Splits the data into training and testing sets\n",
    "X_train, X_test, y_train, y_test = train_test_split(\n",
    "    data['Text'], data['label'], test_size=0.2, random_state=42)\n",
    "\n",
    "# Prints the shapes of the resulting train and test datasets to verify correct splits\n",
    "print(\"Training data shapes - X:\", X_train.shape, \"y:\", y_train.shape)\n",
    "print(\"Testing data shapes - X:\", X_test.shape, \"y:\", y_test.shape)\n"
   ]
  },
  {
   "cell_type": "code",
   "execution_count": 189,
   "id": "ee89ce23-b5cb-46cd-b1ae-fcf3c931cdca",
   "metadata": {},
   "outputs": [
    {
     "name": "stdout",
     "output_type": "stream",
     "text": [
      "Accuracy of the baseline model: 0.9632286995515695\n",
      "Classification Report:\n",
      "               precision    recall  f1-score   support\n",
      "\n",
      "           0       0.96      1.00      0.98       966\n",
      "           1       1.00      0.72      0.84       149\n",
      "\n",
      "    accuracy                           0.96      1115\n",
      "   macro avg       0.98      0.86      0.91      1115\n",
      "weighted avg       0.96      0.96      0.96      1115\n",
      "\n"
     ]
    }
   ],
   "source": [
    "# Imports necessary libraries for Tfidf vectorization and model building\n",
    "from sklearn.feature_extraction.text import TfidfVectorizer\n",
    "from sklearn.naive_bayes import MultinomialNB\n",
    "from sklearn.metrics import classification_report, accuracy_score\n",
    "\n",
    "# Creates a TfidfVectorizer instance and fit it to the training data\n",
    "# This vectorizer converts text data into TF-IDF features, suitable for model training\n",
    "tfidf_vectorizer = TfidfVectorizer()\n",
    "tfidf_vectorizer.fit(X_train)  # Fit only to the training data to prevent data leakage\n",
    "\n",
    "# Transforms both the training and testing data to TF-IDF vectors\n",
    "X_train_tfidf = tfidf_vectorizer.transform(X_train)\n",
    "X_test_tfidf = tfidf_vectorizer.transform(X_test)\n",
    "\n",
    "# Initializes the baseline model using Multinomial Naive Bayes\n",
    "baseline_model = MultinomialNB()\n",
    "baseline_model.fit(X_train_tfidf, y_train)\n",
    "\n",
    "# Predicts labels for the test set using the baseline model\n",
    "y_pred = baseline_model.predict(X_test_tfidf)\n",
    "\n",
    "# Evaluates the performance of the baseline model\n",
    "accuracy = accuracy_score(y_test, y_pred)\n",
    "classification_report = classification_report(y_test, y_pred)\n",
    "\n",
    "# Prints out the accuracy and the detailed classification report for the baseline model\n",
    "print(\"Accuracy of the baseline model:\", accuracy)\n",
    "print(\"Classification Report:\\n\", classification_report)\n"
   ]
  },
  {
   "cell_type": "code",
   "execution_count": 190,
   "id": "0f1ca4e4-5126-4f62-a375-2cd4376fd4b7",
   "metadata": {},
   "outputs": [
    {
     "data": {
      "image/png": "[encoded data removed]",
      "text/plain": [
       "<Figure size 640x480 with 2 Axes>"
      ]
     },
     "metadata": {},
     "output_type": "display_data"
    }
   ],
   "source": [
    "from sklearn.metrics import confusion_matrix, ConfusionMatrixDisplay\n",
    "\n",
    "# Gets the confusion matrix data\n",
    "cm = confusion_matrix(y_test, baseline_model.predict(X_test_tfidf))\n",
    "\n",
    "# Plots the confusion matrix using ConfusionMatrixDisplay\n",
    "disp = ConfusionMatrixDisplay(confusion_matrix=cm, display_labels=baseline_model.classes_)\n",
    "disp.plot()\n",
    "\n",
    "# Adds a title and display the plot\n",
    "import matplotlib.pyplot as plt\n",
    "plt.title('Confusion Matrix')\n",
    "plt.show()\n"
   ]
  },
  {
   "cell_type": "code",
   "execution_count": 191,
   "id": "972640fd-ddba-4623-89b3-1b269ff86635",
   "metadata": {},
   "outputs": [
    {
     "name": "stdout",
     "output_type": "stream",
     "text": [
      "Vectorized output: [[ 41  10   5 148   0   0   0   0   0   0   0   0   0   0   0   0]]\n"
     ]
    }
   ],
   "source": [
    "from tensorflow.keras.layers import TextVectorization\n",
    "\n",
    "# Constants for text vectorization\n",
    "MAXTOKENS = total_unique_words  \n",
    "OUTPUTLEN = average_word_length  \n",
    "\n",
    "# Creates a TextVectorization layer to preprocess and convert text data to integer sequences\n",
    "text_vec = TextVectorization(\n",
    "    max_tokens=MAXTOKENS,  \n",
    "    standardize='lower_and_strip_punctuation',  \n",
    "    output_mode='int',  \n",
    "    output_sequence_length=OUTPUTLEN \n",
    ")\n",
    "\n",
    "# Adapts the TextVectorization layer to the training data\n",
    "text_vec.adapt(X_train)\n",
    "\n",
    "# An Example of using the TextVectorization layer\n",
    "sample_sentence = \"This is a message\"\n",
    "vectorized_output = text_vec([sample_sentence])\n",
    "\n",
    "# Prints the vectorized output of the sample sentence\n",
    "print(\"Vectorized output:\", vectorized_output.numpy())\n"
   ]
  },
  {
   "cell_type": "code",
   "execution_count": 192,
   "id": "dad47585-ba26-4af5-b132-227e78d4b48f",
   "metadata": {},
   "outputs": [],
   "source": [
    "# Defines an embedding layer for a neural network model\n",
    "embedding_layer = layers.Embedding(\n",
    "    input_dim=MAXTOKENS, \n",
    "    output_dim=128,       \n",
    "    embeddings_initializer='uniform',  \n",
    ")"
   ]
  },
  {
   "cell_type": "code",
   "execution_count": 193,
   "id": "37677a60-fe2c-42ec-9aad-42cf568afc50",
   "metadata": {},
   "outputs": [],
   "source": [
    "# Defines the input layer that accepts strings as input\n",
    "input_layer = layers.Input(shape=(1,), dtype=tf.string)\n",
    "\n",
    "# Applies the TextVectorization layer to convert input strings to integer sequences\n",
    "vec_layer = text_vec(input_layer)\n",
    "\n",
    "# Applies the Embedding layer to convert integer sequences into dense vectors\n",
    "embedding_layer_model = embedding_layer(vec_layer)\n",
    "\n",
    "# Uses Global Average Pooling 1D to reduce the dimensions of the embeddings\n",
    "x = layers.GlobalAveragePooling1D()(embedding_layer_model)\n",
    "\n",
    "# Flattens the output of the pooling layer\n",
    "x = layers.Flatten()(x)\n",
    "\n",
    "# Adds a dense layer with 32 units and ReLU activation to introduce non-linearity and learn complex patterns\n",
    "x = layers.Dense(32, activation='relu')(x)\n",
    "\n",
    "# Outputs layer with a single neuron and sigmoid activation function for binary classification\n",
    "output_layer = layers.Dense(1, activation='sigmoid')(x)\n",
    "\n",
    "# Assembles the input and output into a Keras Model\n",
    "model_1 = keras.Model(inputs=input_layer, outputs=output_layer)\n",
    "\n",
    "# Compiles the model with the Adam optimizer and binary cross-entropy loss with label smoothing\n",
    "model_1.compile(\n",
    "    optimizer='adam', \n",
    "    loss=keras.losses.BinaryCrossentropy(label_smoothing=0.5), \n",
    "    metrics=['accuracy']\n",
    ")\n"
   ]
  },
  {
   "cell_type": "code",
   "execution_count": 194,
   "id": "7153304c-a96f-42e2-9148-b81759d8701c",
   "metadata": {},
   "outputs": [
    {
     "data": {
      "text/html": [
       "<pre style=\"white-space:pre;overflow-x:auto;line-height:normal;font-family:Menlo,'DejaVu Sans Mono',consolas,'Courier New',monospace\"><span style=\"font-weight: bold\">Model: \"functional_7\"</span>\n",
       "</pre>\n"
      ],
      "text/plain": [
       "\u001b[1mModel: \"functional_7\"\u001b[0m\n"
      ]
     },
     "metadata": {},
     "output_type": "display_data"
    },
    {
     "data": {
      "text/html": [
       "<pre style=\"white-space:pre;overflow-x:auto;line-height:normal;font-family:Menlo,'DejaVu Sans Mono',consolas,'Courier New',monospace\">┏━━━━━━━━━━━━━━━━━━━━━━━━━━━━━━━━━┳━━━━━━━━━━━━━━━━━━━━━━━━┳━━━━━━━━━━━━━━━┓\n",
       "┃<span style=\"font-weight: bold\"> Layer (type)                    </span>┃<span style=\"font-weight: bold\"> Output Shape           </span>┃<span style=\"font-weight: bold\">       Param # </span>┃\n",
       "┡━━━━━━━━━━━━━━━━━━━━━━━━━━━━━━━━━╇━━━━━━━━━━━━━━━━━━━━━━━━╇━━━━━━━━━━━━━━━┩\n",
       "│ input_layer_13 (<span style=\"color: #0087ff; text-decoration-color: #0087ff\">InputLayer</span>)     │ (<span style=\"color: #00d7ff; text-decoration-color: #00d7ff\">None</span>, <span style=\"color: #00af00; text-decoration-color: #00af00\">1</span>)              │             <span style=\"color: #00af00; text-decoration-color: #00af00\">0</span> │\n",
       "├─────────────────────────────────┼────────────────────────┼───────────────┤\n",
       "│ text_vectorization_2            │ (<span style=\"color: #00d7ff; text-decoration-color: #00d7ff\">None</span>, <span style=\"color: #00af00; text-decoration-color: #00af00\">16</span>)             │             <span style=\"color: #00af00; text-decoration-color: #00af00\">0</span> │\n",
       "│ (<span style=\"color: #0087ff; text-decoration-color: #0087ff\">TextVectorization</span>)             │                        │               │\n",
       "├─────────────────────────────────┼────────────────────────┼───────────────┤\n",
       "│ embedding_2 (<span style=\"color: #0087ff; text-decoration-color: #0087ff\">Embedding</span>)         │ (<span style=\"color: #00d7ff; text-decoration-color: #00d7ff\">None</span>, <span style=\"color: #00af00; text-decoration-color: #00af00\">16</span>, <span style=\"color: #00af00; text-decoration-color: #00af00\">128</span>)        │     <span style=\"color: #00af00; text-decoration-color: #00af00\">2,007,808</span> │\n",
       "├─────────────────────────────────┼────────────────────────┼───────────────┤\n",
       "│ global_average_pooling1d_4      │ (<span style=\"color: #00d7ff; text-decoration-color: #00d7ff\">None</span>, <span style=\"color: #00af00; text-decoration-color: #00af00\">128</span>)            │             <span style=\"color: #00af00; text-decoration-color: #00af00\">0</span> │\n",
       "│ (<span style=\"color: #0087ff; text-decoration-color: #0087ff\">GlobalAveragePooling1D</span>)        │                        │               │\n",
       "├─────────────────────────────────┼────────────────────────┼───────────────┤\n",
       "│ flatten_8 (<span style=\"color: #0087ff; text-decoration-color: #0087ff\">Flatten</span>)             │ (<span style=\"color: #00d7ff; text-decoration-color: #00d7ff\">None</span>, <span style=\"color: #00af00; text-decoration-color: #00af00\">128</span>)            │             <span style=\"color: #00af00; text-decoration-color: #00af00\">0</span> │\n",
       "├─────────────────────────────────┼────────────────────────┼───────────────┤\n",
       "│ dense_22 (<span style=\"color: #0087ff; text-decoration-color: #0087ff\">Dense</span>)                │ (<span style=\"color: #00d7ff; text-decoration-color: #00d7ff\">None</span>, <span style=\"color: #00af00; text-decoration-color: #00af00\">32</span>)             │         <span style=\"color: #00af00; text-decoration-color: #00af00\">4,128</span> │\n",
       "├─────────────────────────────────┼────────────────────────┼───────────────┤\n",
       "│ dense_23 (<span style=\"color: #0087ff; text-decoration-color: #0087ff\">Dense</span>)                │ (<span style=\"color: #00d7ff; text-decoration-color: #00d7ff\">None</span>, <span style=\"color: #00af00; text-decoration-color: #00af00\">1</span>)              │            <span style=\"color: #00af00; text-decoration-color: #00af00\">33</span> │\n",
       "└─────────────────────────────────┴────────────────────────┴───────────────┘\n",
       "</pre>\n"
      ],
      "text/plain": [
       "┏━━━━━━━━━━━━━━━━━━━━━━━━━━━━━━━━━┳━━━━━━━━━━━━━━━━━━━━━━━━┳━━━━━━━━━━━━━━━┓\n",
       "┃\u001b[1m \u001b[0m\u001b[1mLayer (type)                   \u001b[0m\u001b[1m \u001b[0m┃\u001b[1m \u001b[0m\u001b[1mOutput Shape          \u001b[0m\u001b[1m \u001b[0m┃\u001b[1m \u001b[0m\u001b[1m      Param #\u001b[0m\u001b[1m \u001b[0m┃\n",
       "┡━━━━━━━━━━━━━━━━━━━━━━━━━━━━━━━━━╇━━━━━━━━━━━━━━━━━━━━━━━━╇━━━━━━━━━━━━━━━┩\n",
       "│ input_layer_13 (\u001b[38;5;33mInputLayer\u001b[0m)     │ (\u001b[38;5;45mNone\u001b[0m, \u001b[38;5;34m1\u001b[0m)              │             \u001b[38;5;34m0\u001b[0m │\n",
       "├─────────────────────────────────┼────────────────────────┼───────────────┤\n",
       "│ text_vectorization_2            │ (\u001b[38;5;45mNone\u001b[0m, \u001b[38;5;34m16\u001b[0m)             │             \u001b[38;5;34m0\u001b[0m │\n",
       "│ (\u001b[38;5;33mTextVectorization\u001b[0m)             │                        │               │\n",
       "├─────────────────────────────────┼────────────────────────┼───────────────┤\n",
       "│ embedding_2 (\u001b[38;5;33mEmbedding\u001b[0m)         │ (\u001b[38;5;45mNone\u001b[0m, \u001b[38;5;34m16\u001b[0m, \u001b[38;5;34m128\u001b[0m)        │     \u001b[38;5;34m2,007,808\u001b[0m │\n",
       "├─────────────────────────────────┼────────────────────────┼───────────────┤\n",
       "│ global_average_pooling1d_4      │ (\u001b[38;5;45mNone\u001b[0m, \u001b[38;5;34m128\u001b[0m)            │             \u001b[38;5;34m0\u001b[0m │\n",
       "│ (\u001b[38;5;33mGlobalAveragePooling1D\u001b[0m)        │                        │               │\n",
       "├─────────────────────────────────┼────────────────────────┼───────────────┤\n",
       "│ flatten_8 (\u001b[38;5;33mFlatten\u001b[0m)             │ (\u001b[38;5;45mNone\u001b[0m, \u001b[38;5;34m128\u001b[0m)            │             \u001b[38;5;34m0\u001b[0m │\n",
       "├─────────────────────────────────┼────────────────────────┼───────────────┤\n",
       "│ dense_22 (\u001b[38;5;33mDense\u001b[0m)                │ (\u001b[38;5;45mNone\u001b[0m, \u001b[38;5;34m32\u001b[0m)             │         \u001b[38;5;34m4,128\u001b[0m │\n",
       "├─────────────────────────────────┼────────────────────────┼───────────────┤\n",
       "│ dense_23 (\u001b[38;5;33mDense\u001b[0m)                │ (\u001b[38;5;45mNone\u001b[0m, \u001b[38;5;34m1\u001b[0m)              │            \u001b[38;5;34m33\u001b[0m │\n",
       "└─────────────────────────────────┴────────────────────────┴───────────────┘\n"
      ]
     },
     "metadata": {},
     "output_type": "display_data"
    },
    {
     "data": {
      "text/html": [
       "<pre style=\"white-space:pre;overflow-x:auto;line-height:normal;font-family:Menlo,'DejaVu Sans Mono',consolas,'Courier New',monospace\"><span style=\"font-weight: bold\"> Total params: </span><span style=\"color: #00af00; text-decoration-color: #00af00\">2,011,969</span> (7.68 MB)\n",
       "</pre>\n"
      ],
      "text/plain": [
       "\u001b[1m Total params: \u001b[0m\u001b[38;5;34m2,011,969\u001b[0m (7.68 MB)\n"
      ]
     },
     "metadata": {},
     "output_type": "display_data"
    },
    {
     "data": {
      "text/html": [
       "<pre style=\"white-space:pre;overflow-x:auto;line-height:normal;font-family:Menlo,'DejaVu Sans Mono',consolas,'Courier New',monospace\"><span style=\"font-weight: bold\"> Trainable params: </span><span style=\"color: #00af00; text-decoration-color: #00af00\">2,011,969</span> (7.68 MB)\n",
       "</pre>\n"
      ],
      "text/plain": [
       "\u001b[1m Trainable params: \u001b[0m\u001b[38;5;34m2,011,969\u001b[0m (7.68 MB)\n"
      ]
     },
     "metadata": {},
     "output_type": "display_data"
    },
    {
     "data": {
      "text/html": [
       "<pre style=\"white-space:pre;overflow-x:auto;line-height:normal;font-family:Menlo,'DejaVu Sans Mono',consolas,'Courier New',monospace\"><span style=\"font-weight: bold\"> Non-trainable params: </span><span style=\"color: #00af00; text-decoration-color: #00af00\">0</span> (0.00 B)\n",
       "</pre>\n"
      ],
      "text/plain": [
       "\u001b[1m Non-trainable params: \u001b[0m\u001b[38;5;34m0\u001b[0m (0.00 B)\n"
      ]
     },
     "metadata": {},
     "output_type": "display_data"
    }
   ],
   "source": [
    "model_1.summary()\n"
   ]
  },
  {
   "cell_type": "code",
   "execution_count": 195,
   "id": "52c8537b-b749-4510-b6f6-61432012a1d1",
   "metadata": {},
   "outputs": [
    {
     "name": "stdout",
     "output_type": "stream",
     "text": [
      "Epoch 1/5\n",
      "\u001b[1m139/139\u001b[0m \u001b[32m━━━━━━━━━━━━━━━━━━━━\u001b[0m\u001b[37m\u001b[0m \u001b[1m2s\u001b[0m 9ms/step - accuracy: 0.8660 - loss: 0.6279 - val_accuracy: 0.9635 - val_loss: 0.5814\n",
      "Epoch 2/5\n",
      "\u001b[1m139/139\u001b[0m \u001b[32m━━━━━━━━━━━━━━━━━━━━\u001b[0m\u001b[37m\u001b[0m \u001b[1m0s\u001b[0m 174us/step - accuracy: 1.0000 - loss: 0.5631 - val_accuracy: 0.9583 - val_loss: 0.5779\n",
      "Epoch 3/5\n",
      "\u001b[1m 16/139\u001b[0m \u001b[32m━━\u001b[0m\u001b[37m━━━━━━━━━━━━━━━━━━\u001b[0m \u001b[1m0s\u001b[0m 7ms/step - accuracy: 0.9905 - loss: 0.5695"
     ]
    },
    {
     "name": "stderr",
     "output_type": "stream",
     "text": [
      "C:\\Users\\Brillar\\anaconda3\\Lib\\contextlib.py:158: UserWarning: Your input ran out of data; interrupting training. Make sure that your dataset or generator can generate at least `steps_per_epoch * epochs` batches. You may need to use the `.repeat()` function when building your dataset.\n",
      "  self.gen.throw(value)\n"
     ]
    },
    {
     "name": "stdout",
     "output_type": "stream",
     "text": [
      "\u001b[1m139/139\u001b[0m \u001b[32m━━━━━━━━━━━━━━━━━━━━\u001b[0m\u001b[37m\u001b[0m \u001b[1m1s\u001b[0m 7ms/step - accuracy: 0.9856 - loss: 0.5711 - val_accuracy: 0.9740 - val_loss: 0.5757\n",
      "Epoch 4/5\n",
      "\u001b[1m139/139\u001b[0m \u001b[32m━━━━━━━━━━━━━━━━━━━━\u001b[0m\u001b[37m\u001b[0m \u001b[1m0s\u001b[0m 202us/step - accuracy: 1.0000 - loss: 0.5636 - val_accuracy: 0.9896 - val_loss: 0.5700\n",
      "Epoch 5/5\n",
      "\u001b[1m139/139\u001b[0m \u001b[32m━━━━━━━━━━━━━━━━━━━━\u001b[0m\u001b[37m\u001b[0m \u001b[1m1s\u001b[0m 7ms/step - accuracy: 0.9916 - loss: 0.5677 - val_accuracy: 0.9844 - val_loss: 0.5720\n"
     ]
    }
   ],
   "source": [
    "batch_size = 32  # Example batch size\n",
    "total_samples = len(X_train)  \n",
    "\n",
    "steps_per_epoch = total_samples // batch_size  \n",
    "validation_steps = int(0.2 * len(X_test) // batch_size)  # 20% of the test data\n",
    "\n",
    "history_1 = model_1.fit(\n",
    "    X_train, y_train,\n",
    "    epochs=5,\n",
    "    batch_size=batch_size,\n",
    "    validation_data=(X_test, y_test),\n",
    "    steps_per_epoch=steps_per_epoch,  # Optional, as fit() calculates it automatically if not provided\n",
    "    validation_steps=validation_steps\n",
    ")\n"
   ]
  },
  {
   "cell_type": "code",
   "execution_count": 196,
   "id": "ecd8f2c3-cf67-4e80-961d-e74cd9146fcb",
   "metadata": {},
   "outputs": [
    {
     "data": {
      "text/plain": [
       "<Axes: >"
      ]
     },
     "execution_count": 196,
     "metadata": {},
     "output_type": "execute_result"
    },
    {
     "data": {
      "image/png": "[encoded data removed]",
      "text/plain": [
       "<Figure size 640x480 with 1 Axes>"
      ]
     },
     "metadata": {},
     "output_type": "display_data"
    }
   ],
   "source": [
    "# Converts the history object's history dictionary into a pandas DataFrame\n",
    "df_history = pd.DataFrame(history_1.history)\n",
    "\n",
    "# Plots the DataFrame\n",
    "df_history.plot()"
   ]
  },
  {
   "cell_type": "code",
   "execution_count": 197,
   "id": "faa37670-dba2-4d15-9d77-46054ce73583",
   "metadata": {},
   "outputs": [],
   "source": [
    "from sklearn.metrics import accuracy_score, precision_score, recall_score, f1_score\n",
    "\n",
    "def compile_model(model):\n",
    "    ''' \n",
    "    Compiles the model with Adam optimizer and binary cross-entropy loss.\n",
    "    '''\n",
    "    model.compile(optimizer=keras.optimizers.Adam(),\n",
    "                  loss=keras.losses.BinaryCrossentropy(),\n",
    "                  metrics=['accuracy'])\n",
    "\n",
    "def evaluate_model(model, X, y):\n",
    "    ''' \n",
    "    Evaluates the model and return a dictionary with accuracy, precision, recall, and f1-score.\n",
    "    '''\n",
    "    # Predicts the labels for the dataset\n",
    "    y_preds = np.round(model.predict(X))\n",
    "    accuracy = accuracy_score(y, y_preds)\n",
    "    precision = precision_score(y, y_preds)\n",
    "    recall = recall_score(y, y_preds)\n",
    "    f1 = f1_score(y, y_preds)\n",
    "\n",
    "    model_results_dict = {\n",
    "        'accuracy': accuracy,\n",
    "        'precision': precision,\n",
    "        'recall': recall,\n",
    "        'f1-score': f1\n",
    "    }\n",
    "    return model_results_dict\n",
    "\n",
    "def fit_model(model, epochs, X_train, y_train, X_test=None, y_test=None):\n",
    "    '''\n",
    "    Fits the model using the given training data and optionally validate it using test data.\n",
    "    '''\n",
    "    if X_test is not None and y_test is not None:\n",
    "        history = model.fit(X_train, y_train,\n",
    "                            epochs=epochs,\n",
    "                            validation_data=(X_test, y_test))\n",
    "    else:\n",
    "        # If no validation data is provided, fit the model without validation\n",
    "        history = model.fit(X_train, y_train, epochs=epochs)\n",
    "    return history"
   ]
  },
  {
   "cell_type": "code",
   "execution_count": 198,
   "id": "4b45b1c0-cd0f-4fcd-9b2a-9413b48de06a",
   "metadata": {},
   "outputs": [
    {
     "name": "stdout",
     "output_type": "stream",
     "text": [
      "Epoch 1/5\n",
      "\u001b[1m140/140\u001b[0m \u001b[32m━━━━━━━━━━━━━━━━━━━━\u001b[0m\u001b[37m\u001b[0m \u001b[1m11s\u001b[0m 34ms/step - accuracy: 0.9155 - loss: 0.1910 - val_accuracy: 0.9803 - val_loss: 0.0728\n",
      "Epoch 2/5\n",
      "\u001b[1m140/140\u001b[0m \u001b[32m━━━━━━━━━━━━━━━━━━━━\u001b[0m\u001b[37m\u001b[0m \u001b[1m4s\u001b[0m 29ms/step - accuracy: 0.9977 - loss: 0.0125 - val_accuracy: 0.9785 - val_loss: 0.0883\n",
      "Epoch 3/5\n",
      "\u001b[1m140/140\u001b[0m \u001b[32m━━━━━━━━━━━━━━━━━━━━\u001b[0m\u001b[37m\u001b[0m \u001b[1m4s\u001b[0m 31ms/step - accuracy: 0.9987 - loss: 0.0032 - val_accuracy: 0.9803 - val_loss: 0.0916\n",
      "Epoch 4/5\n",
      "\u001b[1m140/140\u001b[0m \u001b[32m━━━━━━━━━━━━━━━━━━━━\u001b[0m\u001b[37m\u001b[0m \u001b[1m4s\u001b[0m 27ms/step - accuracy: 0.9999 - loss: 3.7868e-04 - val_accuracy: 0.9722 - val_loss: 0.1889\n",
      "Epoch 5/5\n",
      "\u001b[1m140/140\u001b[0m \u001b[32m━━━━━━━━━━━━━━━━━━━━\u001b[0m\u001b[37m\u001b[0m \u001b[1m4s\u001b[0m 27ms/step - accuracy: 0.9969 - loss: 0.0109 - val_accuracy: 0.9821 - val_loss: 0.0886\n"
     ]
    }
   ],
   "source": [
    "from tensorflow.keras import layers, Model  # Ensure Model is imported correctly# Define the input layer, accepting strings as input\n",
    "input_layer = layers.Input(shape=(1,), dtype=tf.string)\n",
    "\n",
    "# Applies the TextVectorization layer to convert text input into integer sequences\n",
    "vec_layer = text_vec(input_layer)\n",
    "\n",
    "# Applies the Embedding layer to map integer sequences to dense vectors\n",
    "embedding_layer_model = embedding_layer(vec_layer)\n",
    "\n",
    "# Adds a bidirectional LSTM layer with 64 units and tanh activation\n",
    "bi_lstm = layers.Bidirectional(\n",
    "    layers.LSTM(64, activation='tanh', return_sequences=True)\n",
    ")(embedding_layer_model)\n",
    "\n",
    "# Add another bidirectional LSTM, this time without returning sequences (final output)\n",
    "lstm = layers.Bidirectional(\n",
    "    layers.LSTM(64, activation='tanh')\n",
    ")(bi_lstm)\n",
    "\n",
    "# Flattens the output to prepare for fully connected layers\n",
    "flatten = layers.Flatten()(lstm)\n",
    "\n",
    "# Adds a dropout layer to reduce overfitting\n",
    "dropout = layers.Dropout(0.1)(flatten)\n",
    "\n",
    "# Adds a dense layer with 32 units and ReLU activation for further feature learning\n",
    "x = layers.Dense(32, activation='relu')(dropout)\n",
    "\n",
    "# Adds the output layer with 1 neuron and sigmoid activation for binary classification\n",
    "output_layer = layers.Dense(1, activation='sigmoid')(x)\n",
    "\n",
    "# Creates the model using the input and output layers\n",
    "model_2 = Model(inputs=input_layer, outputs=output_layer)\n",
    "\n",
    "# Compiles the model using the previously defined `compile_model` function\n",
    "compile_model(model_2)\n",
    "\n",
    "# Trains the model using the `fit_model` function\n",
    "history_2 = fit_model(\n",
    "    model_2, \n",
    "    epochs=5, \n",
    "    X_train=X_train, \n",
    "    y_train=y_train, \n",
    "    X_test=X_test, \n",
    "    y_test=y_test\n",
    ")\n",
    "\n"
   ]
  },
  {
   "cell_type": "code",
   "execution_count": 199,
   "id": "82977176-2aaa-40c3-bd1f-18080a2bcaf3",
   "metadata": {},
   "outputs": [
    {
     "name": "stdout",
     "output_type": "stream",
     "text": [
      "Requirement already satisfied: tensorflow in c:\\users\\brillar\\appdata\\roaming\\python\\python312\\site-packages (2.18.0)\n",
      "Requirement already satisfied: tensorflow-hub in c:\\users\\brillar\\anaconda3\\lib\\site-packages (0.16.1)\n",
      "Requirement already satisfied: tensorflow-intel==2.18.0 in c:\\users\\brillar\\appdata\\roaming\\python\\python312\\site-packages (from tensorflow) (2.18.0)\n",
      "Requirement already satisfied: absl-py>=1.0.0 in c:\\users\\brillar\\appdata\\roaming\\python\\python312\\site-packages (from tensorflow-intel==2.18.0->tensorflow) (2.1.0)\n",
      "Requirement already satisfied: astunparse>=1.6.0 in c:\\users\\brillar\\appdata\\roaming\\python\\python312\\site-packages (from tensorflow-intel==2.18.0->tensorflow) (1.6.3)\n",
      "Requirement already satisfied: flatbuffers>=24.3.25 in c:\\users\\brillar\\appdata\\roaming\\python\\python312\\site-packages (from tensorflow-intel==2.18.0->tensorflow) (24.3.25)\n",
      "Requirement already satisfied: gast!=0.5.0,!=0.5.1,!=0.5.2,>=0.2.1 in c:\\users\\brillar\\appdata\\roaming\\python\\python312\\site-packages (from tensorflow-intel==2.18.0->tensorflow) (0.6.0)\n",
      "Requirement already satisfied: google-pasta>=0.1.1 in c:\\users\\brillar\\appdata\\roaming\\python\\python312\\site-packages (from tensorflow-intel==2.18.0->tensorflow) (0.2.0)\n",
      "Requirement already satisfied: libclang>=13.0.0 in c:\\users\\brillar\\appdata\\roaming\\python\\python312\\site-packages (from tensorflow-intel==2.18.0->tensorflow) (18.1.1)\n",
      "Requirement already satisfied: opt-einsum>=2.3.2 in c:\\users\\brillar\\appdata\\roaming\\python\\python312\\site-packages (from tensorflow-intel==2.18.0->tensorflow) (3.4.0)\n",
      "Requirement already satisfied: packaging in c:\\users\\brillar\\anaconda3\\lib\\site-packages (from tensorflow-intel==2.18.0->tensorflow) (24.1)\n",
      "Requirement already satisfied: protobuf!=4.21.0,!=4.21.1,!=4.21.2,!=4.21.3,!=4.21.4,!=4.21.5,<6.0.0dev,>=3.20.3 in c:\\users\\brillar\\anaconda3\\lib\\site-packages (from tensorflow-intel==2.18.0->tensorflow) (4.25.3)\n",
      "Requirement already satisfied: requests<3,>=2.21.0 in c:\\users\\brillar\\anaconda3\\lib\\site-packages (from tensorflow-intel==2.18.0->tensorflow) (2.32.3)\n",
      "Requirement already satisfied: setuptools in c:\\users\\brillar\\anaconda3\\lib\\site-packages (from tensorflow-intel==2.18.0->tensorflow) (75.1.0)\n",
      "Requirement already satisfied: six>=1.12.0 in c:\\users\\brillar\\anaconda3\\lib\\site-packages (from tensorflow-intel==2.18.0->tensorflow) (1.16.0)\n",
      "Requirement already satisfied: termcolor>=1.1.0 in c:\\users\\brillar\\appdata\\roaming\\python\\python312\\site-packages (from tensorflow-intel==2.18.0->tensorflow) (2.5.0)\n",
      "Requirement already satisfied: typing-extensions>=3.6.6 in c:\\users\\brillar\\appdata\\roaming\\python\\python312\\site-packages (from tensorflow-intel==2.18.0->tensorflow) (4.12.2)\n",
      "Requirement already satisfied: wrapt>=1.11.0 in c:\\users\\brillar\\appdata\\roaming\\python\\python312\\site-packages (from tensorflow-intel==2.18.0->tensorflow) (1.16.0)\n",
      "Requirement already satisfied: grpcio<2.0,>=1.24.3 in c:\\users\\brillar\\appdata\\roaming\\python\\python312\\site-packages (from tensorflow-intel==2.18.0->tensorflow) (1.68.0)\n",
      "Requirement already satisfied: tensorboard<2.19,>=2.18 in c:\\users\\brillar\\appdata\\roaming\\python\\python312\\site-packages (from tensorflow-intel==2.18.0->tensorflow) (2.18.0)\n",
      "Requirement already satisfied: keras>=3.5.0 in c:\\users\\brillar\\appdata\\roaming\\python\\python312\\site-packages (from tensorflow-intel==2.18.0->tensorflow) (3.6.0)\n",
      "Requirement already satisfied: numpy<2.1.0,>=1.26.0 in c:\\users\\brillar\\anaconda3\\lib\\site-packages (from tensorflow-intel==2.18.0->tensorflow) (1.26.4)\n",
      "Requirement already satisfied: h5py>=3.11.0 in c:\\users\\brillar\\appdata\\roaming\\python\\python312\\site-packages (from tensorflow-intel==2.18.0->tensorflow) (3.12.1)\n",
      "Requirement already satisfied: ml-dtypes<0.5.0,>=0.4.0 in c:\\users\\brillar\\appdata\\roaming\\python\\python312\\site-packages (from tensorflow-intel==2.18.0->tensorflow) (0.4.1)\n",
      "Requirement already satisfied: tf-keras>=2.14.1 in c:\\users\\brillar\\anaconda3\\lib\\site-packages (from tensorflow-hub) (2.18.0)\n",
      "Requirement already satisfied: wheel<1.0,>=0.23.0 in c:\\users\\brillar\\anaconda3\\lib\\site-packages (from astunparse>=1.6.0->tensorflow-intel==2.18.0->tensorflow) (0.44.0)\n",
      "Requirement already satisfied: rich in c:\\users\\brillar\\appdata\\roaming\\python\\python312\\site-packages (from keras>=3.5.0->tensorflow-intel==2.18.0->tensorflow) (13.9.4)\n",
      "Requirement already satisfied: namex in c:\\users\\brillar\\appdata\\roaming\\python\\python312\\site-packages (from keras>=3.5.0->tensorflow-intel==2.18.0->tensorflow) (0.0.8)\n",
      "Requirement already satisfied: optree in c:\\users\\brillar\\appdata\\roaming\\python\\python312\\site-packages (from keras>=3.5.0->tensorflow-intel==2.18.0->tensorflow) (0.13.1)\n",
      "Requirement already satisfied: charset-normalizer<4,>=2 in c:\\users\\brillar\\anaconda3\\lib\\site-packages (from requests<3,>=2.21.0->tensorflow-intel==2.18.0->tensorflow) (3.3.2)\n",
      "Requirement already satisfied: idna<4,>=2.5 in c:\\users\\brillar\\anaconda3\\lib\\site-packages (from requests<3,>=2.21.0->tensorflow-intel==2.18.0->tensorflow) (3.7)\n",
      "Requirement already satisfied: urllib3<3,>=1.21.1 in c:\\users\\brillar\\anaconda3\\lib\\site-packages (from requests<3,>=2.21.0->tensorflow-intel==2.18.0->tensorflow) (2.2.3)\n",
      "Requirement already satisfied: certifi>=2017.4.17 in c:\\users\\brillar\\anaconda3\\lib\\site-packages (from requests<3,>=2.21.0->tensorflow-intel==2.18.0->tensorflow) (2024.8.30)\n",
      "Requirement already satisfied: markdown>=2.6.8 in c:\\users\\brillar\\appdata\\roaming\\python\\python312\\site-packages (from tensorboard<2.19,>=2.18->tensorflow-intel==2.18.0->tensorflow) (3.7)\n",
      "Requirement already satisfied: tensorboard-data-server<0.8.0,>=0.7.0 in c:\\users\\brillar\\appdata\\roaming\\python\\python312\\site-packages (from tensorboard<2.19,>=2.18->tensorflow-intel==2.18.0->tensorflow) (0.7.2)\n",
      "Requirement already satisfied: werkzeug>=1.0.1 in c:\\users\\brillar\\appdata\\roaming\\python\\python312\\site-packages (from tensorboard<2.19,>=2.18->tensorflow-intel==2.18.0->tensorflow) (3.1.3)\n",
      "Requirement already satisfied: MarkupSafe>=2.1.1 in c:\\users\\brillar\\appdata\\roaming\\python\\python312\\site-packages (from werkzeug>=1.0.1->tensorboard<2.19,>=2.18->tensorflow-intel==2.18.0->tensorflow) (3.0.2)\n",
      "Requirement already satisfied: markdown-it-py>=2.2.0 in c:\\users\\brillar\\appdata\\roaming\\python\\python312\\site-packages (from rich->keras>=3.5.0->tensorflow-intel==2.18.0->tensorflow) (3.0.0)\n",
      "Requirement already satisfied: pygments<3.0.0,>=2.13.0 in c:\\users\\brillar\\appdata\\roaming\\python\\python312\\site-packages (from rich->keras>=3.5.0->tensorflow-intel==2.18.0->tensorflow) (2.18.0)\n",
      "Requirement already satisfied: mdurl~=0.1 in c:\\users\\brillar\\appdata\\roaming\\python\\python312\\site-packages (from markdown-it-py>=2.2.0->rich->keras>=3.5.0->tensorflow-intel==2.18.0->tensorflow) (0.1.2)\n",
      "Note: you may need to restart the kernel to use updated packages.\n"
     ]
    }
   ],
   "source": [
    "pip install --upgrade tensorflow tensorflow-hub\n"
   ]
  },
  {
   "cell_type": "code",
   "execution_count": 200,
   "id": "f1fc167e-0571-441f-8d39-19ae8b2d4d92",
   "metadata": {},
   "outputs": [
    {
     "name": "stdout",
     "output_type": "stream",
     "text": [
      "Epoch 1/5\n",
      "\u001b[1m140/140\u001b[0m \u001b[32m━━━━━━━━━━━━━━━━━━━━\u001b[0m\u001b[37m\u001b[0m \u001b[1m5s\u001b[0m 13ms/step - accuracy: 0.8549 - loss: 0.4673 - val_accuracy: 0.9704 - val_loss: 0.1154\n",
      "Epoch 2/5\n",
      "\u001b[1m140/140\u001b[0m \u001b[32m━━━━━━━━━━━━━━━━━━━━\u001b[0m\u001b[37m\u001b[0m \u001b[1m1s\u001b[0m 9ms/step - accuracy: 0.9746 - loss: 0.0987 - val_accuracy: 0.9776 - val_loss: 0.0719\n",
      "Epoch 3/5\n",
      "\u001b[1m140/140\u001b[0m \u001b[32m━━━━━━━━━━━━━━━━━━━━\u001b[0m\u001b[37m\u001b[0m \u001b[1m1s\u001b[0m 9ms/step - accuracy: 0.9823 - loss: 0.0562 - val_accuracy: 0.9821 - val_loss: 0.0607\n",
      "Epoch 4/5\n",
      "\u001b[1m140/140\u001b[0m \u001b[32m━━━━━━━━━━━━━━━━━━━━\u001b[0m\u001b[37m\u001b[0m \u001b[1m1s\u001b[0m 9ms/step - accuracy: 0.9835 - loss: 0.0559 - val_accuracy: 0.9821 - val_loss: 0.0560\n",
      "Epoch 5/5\n",
      "\u001b[1m140/140\u001b[0m \u001b[32m━━━━━━━━━━━━━━━━━━━━\u001b[0m\u001b[37m\u001b[0m \u001b[1m1s\u001b[0m 10ms/step - accuracy: 0.9845 - loss: 0.0516 - val_accuracy: 0.9812 - val_loss: 0.0549\n"
     ]
    },
    {
     "data": {
      "image/png": "[encoded data removed]",
      "text/plain": [
       "<Figure size 640x480 with 1 Axes>"
      ]
     },
     "metadata": {},
     "output_type": "display_data"
    }
   ],
   "source": [
    "import tensorflow_hub as hub\n",
    "# Disables XLA compilation for debugging purposes (optional, depending on setup)\n",
    "tf.config.optimizer.set_jit(False)\n",
    "\n",
    "# Defines a custom function to compile the model\n",
    "def compile_model(model):\n",
    "    \"\"\"\n",
    "    Compile the model with Adam optimizer and binary cross-entropy loss.\n",
    "    \"\"\"\n",
    "    model.compile(\n",
    "        optimizer=keras.optimizers.Adam(),\n",
    "        loss=keras.losses.BinaryCrossentropy(),\n",
    "        metrics=['accuracy']\n",
    "    )\n",
    "\n",
    "# Defines a custom function to fit the model\n",
    "def fit_model(model, epochs, X_train=X_train, y_train=y_train, X_test=X_test, y_test=y_test):\n",
    "    \"\"\"\n",
    "    Train the model with the provided data and epochs.\n",
    "    \"\"\"\n",
    "    history = model.fit(\n",
    "        X_train,\n",
    "        y_train,\n",
    "        epochs=epochs,\n",
    "        validation_data=(X_test, y_test),\n",
    "        batch_size=32\n",
    "    )\n",
    "    return history\n",
    "\n",
    "# Defines the input layer, accepting strings as input\n",
    "input_layer = keras.Input(shape=[], dtype=tf.string)\n",
    "\n",
    "# Adds the Universal Sentence Encoder (USE) layer from TensorFlow Hub\n",
    "use_layer = hub.KerasLayer(\n",
    "    \"https://tfhub.dev/google/universal-sentence-encoder/4\", \n",
    "    trainable=False,  # Pre-trained embeddings are frozen\n",
    "    input_shape=[], \n",
    "    dtype=tf.string, \n",
    "    name='USE'\n",
    ")\n",
    "\n",
    "# Wraps the USE layer in a Lambda layer for functional API usage\n",
    "x = layers.Lambda(lambda x: use_layer(x), output_shape=(512,))(input_layer)\n",
    "\n",
    "# Adds a dropout layer to prevent overfitting\n",
    "x = layers.Dropout(0.2)(x)\n",
    "\n",
    "# Adds a dense layer with 64 units and ReLU activation\n",
    "x = layers.Dense(64, activation=keras.activations.relu)(x)\n",
    "\n",
    "# Adds the output layer with a single neuron and sigmoid activation for binary classification\n",
    "output_layer = layers.Dense(1, activation=keras.activations.sigmoid)(x)\n",
    "\n",
    "# Creates the model using the input and output layers\n",
    "model_3 = keras.Model(inputs=input_layer, outputs=output_layer)\n",
    "\n",
    "# Compiles the model\n",
    "compile_model(model_3)\n",
    "\n",
    "# Trains the model\n",
    "history_3 = fit_model(model_3, epochs=5)\n",
    "\n",
    "# Plots the training history\n",
    "import pandas as pd\n",
    "import matplotlib.pyplot as plt\n",
    "\n",
    "history_df = pd.DataFrame(history_3.history)\n",
    "history_df.plot(title='Training History of USE Model')\n",
    "plt.xlabel('Epochs')\n",
    "plt.ylabel('Metrics')\n",
    "plt.show()"
   ]
  },
  {
   "cell_type": "code",
   "execution_count": 201,
   "id": "411f09ba-2b68-4736-b04a-1fa66382874e",
   "metadata": {},
   "outputs": [
    {
     "name": "stdout",
     "output_type": "stream",
     "text": [
      "Epoch 1/5\n",
      "\u001b[1m140/140\u001b[0m \u001b[32m━━━━━━━━━━━━━━━━━━━━\u001b[0m\u001b[37m\u001b[0m \u001b[1m3s\u001b[0m 12ms/step - accuracy: 0.9885 - loss: 0.0397 - val_accuracy: 0.9830 - val_loss: 0.0550\n",
      "Epoch 2/5\n",
      "\u001b[1m140/140\u001b[0m \u001b[32m━━━━━━━━━━━━━━━━━━━━\u001b[0m\u001b[37m\u001b[0m \u001b[1m1s\u001b[0m 8ms/step - accuracy: 0.9883 - loss: 0.0401 - val_accuracy: 0.9830 - val_loss: 0.0538\n",
      "Epoch 3/5\n",
      "\u001b[1m140/140\u001b[0m \u001b[32m━━━━━━━━━━━━━━━━━━━━\u001b[0m\u001b[37m\u001b[0m \u001b[1m1s\u001b[0m 9ms/step - accuracy: 0.9921 - loss: 0.0327 - val_accuracy: 0.9812 - val_loss: 0.0539\n",
      "Epoch 4/5\n",
      "\u001b[1m140/140\u001b[0m \u001b[32m━━━━━━━━━━━━━━━━━━━━\u001b[0m\u001b[37m\u001b[0m \u001b[1m2s\u001b[0m 13ms/step - accuracy: 0.9915 - loss: 0.0248 - val_accuracy: 0.9830 - val_loss: 0.0533\n",
      "Epoch 5/5\n",
      "\u001b[1m140/140\u001b[0m \u001b[32m━━━━━━━━━━━━━━━━━━━━\u001b[0m\u001b[37m\u001b[0m \u001b[1m2s\u001b[0m 12ms/step - accuracy: 0.9925 - loss: 0.0248 - val_accuracy: 0.9839 - val_loss: 0.0543\n",
      "dict_keys(['accuracy', 'loss', 'val_accuracy', 'val_loss'])\n"
     ]
    }
   ],
   "source": [
    "# Compiles the model using a custom function\n",
    "compile_model(model_3)\n",
    "\n",
    "# Fits the model using a custom function\n",
    "history_3 = fit_model(model_3, epochs=5, X_train=X_train, y_train=y_train, X_test=X_test, y_test=y_test)\n",
    "\n",
    "# Prints the training history keys to inspect available metrics\n",
    "print(history_3.history.keys())\n"
   ]
  },
  {
   "cell_type": "code",
   "execution_count": 202,
   "id": "bc30a20b-8371-4978-9122-bf688c87c31e",
   "metadata": {},
   "outputs": [
    {
     "name": "stdout",
     "output_type": "stream",
     "text": [
      "\u001b[1m35/35\u001b[0m \u001b[32m━━━━━━━━━━━━━━━━━━━━\u001b[0m\u001b[37m\u001b[0m \u001b[1m0s\u001b[0m 6ms/step\n",
      "\u001b[1m35/35\u001b[0m \u001b[32m━━━━━━━━━━━━━━━━━━━━\u001b[0m\u001b[37m\u001b[0m \u001b[1m2s\u001b[0m 29ms/step\n",
      "\u001b[1m35/35\u001b[0m \u001b[32m━━━━━━━━━━━━━━━━━━━━\u001b[0m\u001b[37m\u001b[0m \u001b[1m1s\u001b[0m 19ms/step\n",
      "                             accuracy  precision    recall  f1-score\n",
      "MultinomialNB Model          0.963229   1.000000  0.724832  0.840467\n",
      "Custom-Vec-Embedding Model   0.977578   0.976923  0.852349  0.910394\n",
      "Bidirectional-LSTM Model     0.982063   0.970803  0.892617  0.930070\n",
      "USE-Transfer learning Model  0.983857   0.939597  0.939597  0.939597\n"
     ]
    }
   ],
   "source": [
    "# Vectorizes X_test for the baseline model (MultinomialNB)\n",
    "X_test_vec = tfidf_vectorizer.transform(X_test)\n",
    "\n",
    "# Evaluates each model on the test set and store the results in dictionaries\n",
    "baseline_model_results = evaluate_model(baseline_model, X_test_vec, y_test)  # For MultinomialNB with vectorized data\n",
    "model_1_results = evaluate_model(model_1, X_test, y_test)  # For Custom-Vec-Embedding Model\n",
    "model_2_results = evaluate_model(model_2, X_test, y_test)  # For Bidirectional-LSTM Model\n",
    "model_3_results = evaluate_model(model_3, X_test, y_test)  # For USE-Transfer learning Model\n",
    "\n",
    "# Consolidates the results into a DataFrame for comparison\n",
    "total_results = pd.DataFrame({\n",
    "    'MultinomialNB Model': baseline_model_results,\n",
    "    'Custom-Vec-Embedding Model': model_1_results,\n",
    "    'Bidirectional-LSTM Model': model_2_results,\n",
    "    'USE-Transfer learning Model': model_3_results\n",
    "}).transpose()  # Transpose to make models the rows and metrics the columns\n",
    "\n",
    "# Displays the consolidated results\n",
    "print(total_results)\n"
   ]
  },
  {
   "cell_type": "code",
   "execution_count": 222,
   "id": "5b3ad146-2739-4307-ac7d-21f8d8956275",
   "metadata": {
    "scrolled": true
   },
   "outputs": [
    {
     "data": {
      "image/png": "[encoded data removed]",
      "text/plain": [
       "<Figure size 1000x600 with 1 Axes>"
      ]
     },
     "metadata": {},
     "output_type": "display_data"
    }
   ],
   "source": [
    "# Plots the results\n",
    "total_results.plot(kind='bar', figsize=(10, 6))\n",
    "plt.title('Model Performance Comparison')\n",
    "plt.ylabel('Metric Value')\n",
    "plt.xlabel('Models')\n",
    "plt.xticks(rotation=45, ha='right')\n",
    "plt.legend(title='Metrics')\n",
    "plt.grid(axis='y', linestyle='--', alpha=0.7)\n",
    "plt.tight_layout()\n",
    "plt.show()"
   ]
  }
 ],
 "metadata": {
  "kernelspec": {
   "display_name": "Python 3 (ipykernel)",
   "language": "python",
   "name": "python3"
  },
  "language_info": {
   "codemirror_mode": {
    "name": "ipython",
    "version": 3
   },
   "file_extension": ".py",
   "mimetype": "text/x-python",
   "name": "python",
   "nbconvert_exporter": "python",
   "pygments_lexer": "ipython3",
   "version": "3.12.3"
  }
 },
 "nbformat": 4,
 "nbformat_minor": 5
}
